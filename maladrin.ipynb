{
  "nbformat": 4,
  "nbformat_minor": 0,
  "metadata": {
    "accelerator": "GPU",
    "colab": {
      "name": "maladrin.ipynb",
      "provenance": [],
      "authorship_tag": "ABX9TyM4wWeviFhp7uUCUlpbTCyd",
      "include_colab_link": true
    },
    "kernelspec": {
      "display_name": "Python 3",
      "name": "python3"
    },
    "language_info": {
      "name": "python"
    }
  },
  "cells": [
    {
      "cell_type": "markdown",
      "metadata": {
        "id": "view-in-github",
        "colab_type": "text"
      },
      "source": [
        "<a href=\"https://colab.research.google.com/github/surajrasaq/suraj/blob/master/maladrin.ipynb\" target=\"_parent\"><img src=\"https://colab.research.google.com/assets/colab-badge.svg\" alt=\"Open In Colab\"/></a>"
      ]
    },
    {
      "cell_type": "code",
      "metadata": {
        "id": "0myAPSgh-B91"
      },
      "source": [
        "import os\n",
        "import tensorflow as tf\n",
        "from tensorflow import keras\n",
        "from tensorflow.keras import Sequential\n",
        "from tensorflow.keras.layers import Dense,Conv2D,MaxPooling2D,Flatten,Dropout\n",
        "from tensorflow.keras.preprocessing.image import ImageDataGenerator\n",
        "import pandas as pd\n",
        "import numpy as np\n",
        "from keras.preprocessing import image\n",
        "\n",
        "from tensorflow.keras.callbacks import EarlyStopping"
      ],
      "execution_count": 1,
      "outputs": []
    },
    {
      "cell_type": "code",
      "metadata": {
        "colab": {
          "base_uri": "https://localhost:8080/"
        },
        "id": "f-qgmRSqH6XS",
        "outputId": "f195d9b2-dedb-419b-e1df-a866e11bab86"
      },
      "source": [
        "# from google.colab import drive\n",
        "# drive.mount ('/content/drive')\n",
        "\n",
        "from google.colab import drive\n",
        "drive.mount('/content/drive')"
      ],
      "execution_count": 2,
      "outputs": [
        {
          "output_type": "stream",
          "text": [
            "Drive already mounted at /content/drive; to attempt to forcibly remount, call drive.mount(\"/content/drive\", force_remount=True).\n"
          ],
          "name": "stdout"
        }
      ]
    },
    {
      "cell_type": "code",
      "metadata": {
        "id": "CwQRIgtPJ9qy"
      },
      "source": [
        "import os\n",
        "import zipfile\n",
        "# import tarfile\n",
        "with zipfile.ZipFile('/content/drive/My Drive/cell_images.zip', 'r') as zip_ref:\n",
        "     zip_ref.extractall()\n",
        "\n",
        "# with tarfile.open('./cell_images.zip', \"r:gz\") as zip_file:\n",
        "#     zip_file.extractall()"
      ],
      "execution_count": 3,
      "outputs": []
    },
    {
      "cell_type": "code",
      "metadata": {
        "id": "oooINPwAMzIc"
      },
      "source": [
        ""
      ],
      "execution_count": 3,
      "outputs": []
    },
    {
      "cell_type": "code",
      "metadata": {
        "id": "FWmX5KrbA2OS"
      },
      "source": [
        "base_dir = './cell_images'\n",
        "train_dir = os.path.join(base_dir, 'training_set')\n",
        "test_dir = os.path.join(base_dir, 'test_set')"
      ],
      "execution_count": 4,
      "outputs": []
    },
    {
      "cell_type": "code",
      "metadata": {
        "id": "a-cWuTkWDWa6",
        "colab": {
          "base_uri": "https://localhost:8080/"
        },
        "outputId": "243ae2a7-ab8e-48cf-fe9f-f9e81370aa51"
      },
      "source": [
        "os.listdir(base_dir)"
      ],
      "execution_count": 5,
      "outputs": [
        {
          "output_type": "execute_result",
          "data": {
            "text/plain": [
              "['single_prediction', 'test_set', 'training_set', '.DS_Store', 'test_image']"
            ]
          },
          "metadata": {
            "tags": []
          },
          "execution_count": 5
        }
      ]
    },
    {
      "cell_type": "code",
      "metadata": {
        "colab": {
          "base_uri": "https://localhost:8080/"
        },
        "id": "N01vI0eNg-XL",
        "outputId": "678f8866-7680-4d59-876b-48a8dbd97351"
      },
      "source": [
        "training_set = tf.keras.preprocessing.image_dataset_from_directory(\n",
        "train_dir,\n",
        "seed=101,\n",
        "image_size=(200, 200),\n",
        "batch_size=32)"
      ],
      "execution_count": 6,
      "outputs": [
        {
          "output_type": "stream",
          "text": [
            "Found 20024 files belonging to 2 classes.\n"
          ],
          "name": "stdout"
        }
      ]
    },
    {
      "cell_type": "code",
      "metadata": {
        "colab": {
          "base_uri": "https://localhost:8080/"
        },
        "id": "k0aqO8bwlZlM",
        "outputId": "fa7f0f3e-0c51-4523-b7cd-0fe441c747e6"
      },
      "source": [
        "validation_set = tf.keras.preprocessing.image_dataset_from_directory(\n",
        "test_dir,\n",
        "seed=101,\n",
        "image_size=(200, 200),\n",
        "batch_size=32)"
      ],
      "execution_count": 7,
      "outputs": [
        {
          "output_type": "stream",
          "text": [
            "Found 7534 files belonging to 2 classes.\n"
          ],
          "name": "stdout"
        }
      ]
    },
    {
      "cell_type": "code",
      "metadata": {
        "id": "2SOjrWIHmAUS"
      },
      "source": [
        "checkpoint_filepath = '/cell_images/checkpoint'\n",
        "model_checkpoint_callback = tf.keras.callbacks.ModelCheckpoint(\n",
        "    filepath=checkpoint_filepath,\n",
        "    save_weights_only=False,\n",
        "    monitor='loss',\n",
        "    mode='min',\n",
        "    save_best_only=True)\n",
        "\n",
        "callbacks = [\n",
        "             EarlyStopping(patience=2),\n",
        "             model_checkpoint_callback,\n",
        "]\n"
      ],
      "execution_count": 8,
      "outputs": []
    },
    {
      "cell_type": "code",
      "metadata": {
        "id": "X6IiZ9UomQI9"
      },
      "source": [
        "class_names = training_set.class_names"
      ],
      "execution_count": 9,
      "outputs": []
    },
    {
      "cell_type": "code",
      "metadata": {
        "id": "os7qul3zmQRN"
      },
      "source": [
        "data_augmentation = keras.Sequential(\n",
        "  [\n",
        "    tf.keras.layers.experimental.preprocessing.RandomFlip(\"horizontal\",\n",
        "                                                 input_shape=(200,200,3)),\n",
        "    tf.keras.layers.experimental.preprocessing.RandomRotation(0.2),\n",
        "    tf.keras.layers.experimental.preprocessing.RandomZoom(0.2),\n",
        "  ]\n",
        ")\n"
      ],
      "execution_count": 10,
      "outputs": []
    },
    {
      "cell_type": "code",
      "metadata": {
        "id": "Co4SlBfzmatl"
      },
      "source": [
        "model = Sequential([\n",
        "    data_augmentation,\n",
        "    tf.keras.layers.experimental.preprocessing.Rescaling(1./255),\n",
        "    Conv2D(filters=32,kernel_size=(3,3), activation='relu'),\n",
        "    MaxPooling2D(pool_size=(2,2)),\n",
        "tf.keras.layers.experimental.preprocessing.Rescaling(1./255),\n",
        "    Conv2D(filters=32,kernel_size=(3,3), activation='relu'),\n",
        "    MaxPooling2D(pool_size=(2,2)),\n",
        "\n",
        "    Conv2D(filters=32,kernel_size=(3,3), activation='relu'),\n",
        "    MaxPooling2D(pool_size=(2,2)),\n",
        "    Dropout(0.25),\n",
        "\n",
        "    Conv2D(filters=64,kernel_size=(3,3), activation='relu'),\n",
        "    MaxPooling2D(pool_size=(2,2)),\n",
        "    Dropout(0.25),\n",
        "\n",
        "    Flatten(),\n",
        "    Dense(128, activation='relu'),\n",
        "    Dropout(0.25),\n",
        "    Dense(1, activation='sigmoid')\n",
        "])\n"
      ],
      "execution_count": 11,
      "outputs": []
    },
    {
      "cell_type": "code",
      "metadata": {
        "colab": {
          "base_uri": "https://localhost:8080/"
        },
        "id": "5JmDBgfImmKN",
        "outputId": "87770fc7-7c48-4888-aa28-39515b064ef3"
      },
      "source": [
        "model.compile(optimizer='adam',\n",
        "              loss=keras.losses.BinaryCrossentropy(from_logits=True),\n",
        "              metrics=[keras.metrics.BinaryAccuracy()])\n",
        "\n",
        "history = model.fit(training_set,validation_data=validation_set, epochs=600,callbacks=callbacks)\n",
        "\n"
      ],
      "execution_count": 12,
      "outputs": [
        {
          "output_type": "stream",
          "text": [
            "Epoch 1/600\n"
          ],
          "name": "stdout"
        },
        {
          "output_type": "stream",
          "text": [
            "/usr/local/lib/python3.7/dist-packages/tensorflow/python/keras/backend.py:5017: UserWarning: \"`binary_crossentropy` received `from_logits=True`, but the `output` argument was produced by a sigmoid or softmax activation and thus does not represent logits. Was this intended?\"\n",
            "  '\"`binary_crossentropy` received `from_logits=True`, but the `output`'\n"
          ],
          "name": "stderr"
        },
        {
          "output_type": "stream",
          "text": [
            "626/626 [==============================] - 57s 86ms/step - loss: 0.6932 - binary_accuracy: 0.5006 - val_loss: 0.6932 - val_binary_accuracy: 0.5000\n",
            "INFO:tensorflow:Assets written to: /cell_images/checkpoint/assets\n",
            "Epoch 2/600\n",
            "626/626 [==============================] - 54s 86ms/step - loss: 0.6932 - binary_accuracy: 0.4990 - val_loss: 0.6932 - val_binary_accuracy: 0.5000\n",
            "INFO:tensorflow:Assets written to: /cell_images/checkpoint/assets\n",
            "Epoch 3/600\n",
            "626/626 [==============================] - 54s 86ms/step - loss: 0.6932 - binary_accuracy: 0.4987 - val_loss: 0.6932 - val_binary_accuracy: 0.5000\n"
          ],
          "name": "stdout"
        }
      ]
    },
    {
      "cell_type": "code",
      "metadata": {
        "id": "jP5gxWJim3yv"
      },
      "source": [
        "metrics_df = pd.DataFrame(history.history)"
      ],
      "execution_count": 13,
      "outputs": []
    },
    {
      "cell_type": "code",
      "metadata": {
        "colab": {
          "base_uri": "https://localhost:8080/",
          "height": 276
        },
        "id": "uE1YAZUQmmXo",
        "outputId": "e31dd456-bb30-404a-cafa-89e67ba067f4"
      },
      "source": [
        "metrics_df[[\"loss\",\"val_loss\"]].plot();\n"
      ],
      "execution_count": 14,
      "outputs": [
        {
          "output_type": "display_data",
          "data": {
            "image/png": "[encoded data removed]",
            "text/plain": [
              "<Figure size 432x288 with 1 Axes>"
            ]
          },
          "metadata": {
            "tags": [],
            "needs_background": "light"
          }
        }
      ]
    },
    {
      "cell_type": "code",
      "metadata": {
        "colab": {
          "base_uri": "https://localhost:8080/",
          "height": 282
        },
        "id": "xtjF1HHor-Ra",
        "outputId": "ebeed309-b1ca-447e-98f0-beb421c4c7b2"
      },
      "source": [
        "metrics_df[[\"binary_accuracy\",\"val_binary_accuracy\"]].plot()"
      ],
      "execution_count": 15,
      "outputs": [
        {
          "output_type": "execute_result",
          "data": {
            "text/plain": [
              "<matplotlib.axes._subplots.AxesSubplot at 0x7f0de004b350>"
            ]
          },
          "metadata": {
            "tags": []
          },
          "execution_count": 15
        },
        {
          "output_type": "display_data",
          "data": {
            "image/png": "[encoded data removed]",
            "text/plain": [
              "<Figure size 432x288 with 1 Axes>"
            ]
          },
          "metadata": {
            "tags": [],
            "needs_background": "light"
          }
        }
      ]
    },
    {
      "cell_type": "code",
      "metadata": {
        "colab": {
          "base_uri": "https://localhost:8080/"
        },
        "id": "QXtyRrKpr-gp",
        "outputId": "5fbd2af3-ef0f-4301-d0a3-b7c3e66af750"
      },
      "source": [
        "loss, accuracy = model.evaluate(validation_set)\n",
        "print('Accuracy on test dataset:', accuracy)"
      ],
      "execution_count": 16,
      "outputs": [
        {
          "output_type": "stream",
          "text": [
            "236/236 [==============================] - 11s 46ms/step - loss: 0.6932 - binary_accuracy: 0.5000\n",
            "Accuracy on test dataset: 0.5\n"
          ],
          "name": "stdout"
        }
      ]
    },
    {
      "cell_type": "code",
      "metadata": {
        "id": "w0GkQ7kosQJ0"
      },
      "source": [
        "test_image = image.load_img('./cell_images/test_image/infected.png', target_size=(200, 200))"
      ],
      "execution_count": 17,
      "outputs": []
    },
    {
      "cell_type": "code",
      "metadata": {
        "id": "_4panbTysQTw"
      },
      "source": [
        "test_image = image.img_to_array(test_image)"
      ],
      "execution_count": 18,
      "outputs": []
    },
    {
      "cell_type": "code",
      "metadata": {
        "id": "766HdoL3sbFQ"
      },
      "source": [
        "test_image = np.expand_dims(test_image, axis=0)"
      ],
      "execution_count": 19,
      "outputs": []
    },
    {
      "cell_type": "code",
      "metadata": {
        "id": "6ap_D-jlsbPs"
      },
      "source": [
        "prediction = model.predict(test_image)"
      ],
      "execution_count": 20,
      "outputs": []
    },
    {
      "cell_type": "code",
      "metadata": {
        "colab": {
          "base_uri": "https://localhost:8080/"
        },
        "id": "k-3BDkUrsbZ7",
        "outputId": "da83c37c-ef4d-460a-fd47-f9e7d6750e98"
      },
      "source": [
        "if prediction[0][0]>0.5:\n",
        "  print(\" its paratized\")\n",
        "else:\n",
        "   print(\" its uninfected\")\n"
      ],
      "execution_count": 21,
      "outputs": [
        {
          "output_type": "stream",
          "text": [
            " its paratized\n"
          ],
          "name": "stdout"
        }
      ]
    },
    {
      "cell_type": "code",
      "metadata": {
        "id": "G1HF26PJtN-7"
      },
      "source": [
        "test_image2 = image.load_img('./cell_images/test_image/not_infected.png', target_size=(200, 200))"
      ],
      "execution_count": 22,
      "outputs": []
    },
    {
      "cell_type": "code",
      "metadata": {
        "id": "3W4FKnq5tOQB"
      },
      "source": [
        "test_image2 = np.expand_dims(test_image2, axis=0)"
      ],
      "execution_count": 23,
      "outputs": []
    },
    {
      "cell_type": "code",
      "metadata": {
        "id": "wcNwgkzytemx"
      },
      "source": [
        "prediction = model.predict(test_image2)"
      ],
      "execution_count": 24,
      "outputs": []
    },
    {
      "cell_type": "code",
      "metadata": {
        "colab": {
          "base_uri": "https://localhost:8080/"
        },
        "id": "3WUJLk8Etewg",
        "outputId": "a66dd115-7361-4154-97bd-bcd0f8af6de1"
      },
      "source": [
        "if prediction[0][0]>0.5:\n",
        "  print(\" its Ununfected\")\n",
        "else:\n",
        "   print(\" its Paratized\")"
      ],
      "execution_count": 25,
      "outputs": [
        {
          "output_type": "stream",
          "text": [
            " its Ununfected\n"
          ],
          "name": "stdout"
        }
      ]
    },
    {
      "cell_type": "code",
      "metadata": {
        "id": "twDAl42YtexM"
      },
      "source": [
        ""
      ],
      "execution_count": 25,
      "outputs": []
    }
  ]
}